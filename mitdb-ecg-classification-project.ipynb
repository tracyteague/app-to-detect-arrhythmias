{
 "cells": [
  {
   "cell_type": "markdown",
   "metadata": {},
   "source": [
    "# MITDB ECG Classification Project\n",
    "December 12, 2019"
   ]
  },
  {
   "cell_type": "markdown",
   "metadata": {
    "heading_collapsed": true
   },
   "source": [
    "## Annotations"
   ]
  },
  {
   "cell_type": "markdown",
   "metadata": {
    "heading_collapsed": true,
    "hidden": true
   },
   "source": [
    "### Arrhythmia Type List\n",
    "* N = 'N', 'L', 'R', 'e', 'j'\n",
    "* SVEB = 'A', 'a', 'J', 'S'\n",
    "* VEB = 'V', 'E'\n",
    "* F = 'F'\n",
    "* Q = '/', 'f'\n",
    "\n",
    "### Arrhythmia Annotation\n",
    "* N = Normal beat\n",
    "* L = Left bundle branch block beat\n",
    "* R = Right bundle branch block beat\n",
    "* e = Atrial escape beat\n",
    "* j = Nodal (junctional) escape beat\n",
    "* A = Atrial premature beat\n",
    "* a = Aberrated atrial premature beat\n",
    "* J = Nodal (junctional) premature beat\n",
    "* S = Supraventricular premature or ectopic beat (atrial or nodal)\n",
    "* V = Premature ventricular contraction\n",
    "* E = Ventricular escape beat\n",
    "* F = Fusion of ventricular and normal beat\n",
    "* / = Paced beat\n",
    "* f = Fusion of paced and normal beat\n",
    "\n",
    "### The Number of Each Arrhythmia Type\n",
    "* N = 10001\n",
    "* L = 8075\n",
    "* R = 7259\n",
    "* e = 16\n",
    "* j = 229\n",
    "* A = 2546\n",
    "* a = 150\n",
    "* J = 83\n",
    "* S = 2\n",
    "* V = 7130\n",
    "* E = 106\n",
    "* F = 803\n",
    "* / = 7028\n",
    "* f = 982"
   ]
  },
  {
   "cell_type": "markdown",
   "metadata": {
    "heading_collapsed": true
   },
   "source": [
    "## Imports"
   ]
  },
  {
   "cell_type": "code",
   "execution_count": 1,
   "metadata": {
    "hidden": true
   },
   "outputs": [],
   "source": [
    "import pandas as pd\n",
    "import numpy as np\n",
    "import matplotlib.pyplot as plt\n",
    "import seaborn as sns\n",
    "import pickle\n",
    "\n",
    "# sklearn imports\n",
    "from sklearn.model_selection import train_test_split\n",
    "from sklearn.metrics import *\n",
    "from sklearn.preprocessing import LabelEncoder\n",
    "from sklearn.utils import class_weight\n",
    "\n",
    "# Keras imports for modeling\n",
    "from keras.utils import * \n",
    "from keras.models import *\n",
    "from keras.layers import *\n",
    "from keras.optimizers import *\n",
    "from keras.metrics import *\n",
    "from keras.callbacks import *"
   ]
  },
  {
   "cell_type": "markdown",
   "metadata": {
    "heading_collapsed": true
   },
   "source": [
    "## Functions"
   ]
  },
  {
   "cell_type": "code",
   "execution_count": 182,
   "metadata": {
    "hidden": true
   },
   "outputs": [],
   "source": [
    "# Preprocessing files\n",
    "def import_hb_csv_and_create_df(csv_file):\n",
    "    csv_df = pd.read_csv(csv_file)\n",
    "    csv_df.columns = ['Sample #', 'MLII', 'V5']        \n",
    "    return csv_df\n",
    "\n",
    "def import_hb_txt_and_create_df(txt_file):\n",
    "    txt_df = pd.read_fwf(txt_file)\n",
    "    return txt_df\n",
    "\n",
    "def merged_hb_dfs_inner(csv_df, txt_df):\n",
    "    hb_sample_df = pd.merge(csv_df, txt_df, on='Sample #')\n",
    "    return hb_sample_df\n",
    "\n",
    "def merged_hb_dfs_outer(csv_df, txt_df):\n",
    "    hb_sample_df = pd.merge(csv_df, txt_df, how='outer', on='Sample #')\n",
    "    return hb_sample_df\n",
    "\n",
    "# Visualization\n",
    "def plot_heartbeat(csv_df, txt_df, start_read, end_read):\n",
    "    MLII = csv_df[\"MLII\"]\n",
    "    plt.figure(figsize=(20,4)) \n",
    "    plt.plot(MLII[start_read : end_read]) \n",
    "    plt.show()\n",
    "    \n",
    "    \n",
    "# Upsampling records\n",
    "def upsample(y, new_len=2200):\n",
    "    # input (y): vector of readings in 'Readings' column\n",
    "    # output (y_new): vector of upsampled readings, default size 2200\n",
    "    x = np.arange(0, len(y), 1)\n",
    "\n",
    "    stop = (len(y)/360)\n",
    "    start = 0\n",
    "    step = (len(y)/360)/len(y)\n",
    "\n",
    "    t = np.arange(start, stop, step)\n",
    "    t_new = np.arange(start, stop, stop/new_len)\n",
    "    \n",
    "    if (len(t) != len(y)):\n",
    "        t = t[:-1]\n",
    "    \n",
    "    y_new = np.interp(t_new, t, y)\n",
    "    return y_new\n",
    "\n",
    "\n",
    "# Normalize records\n",
    "def find_and_subtract_min_reading(readings_array):\n",
    "    min_val = round(readings_array.min(), 4)\n",
    "    readings_array = np.array([(reading-min_val) for i, reading in enumerate(readings_array)])\n",
    "    return readings_array\n",
    "    \n",
    "def find_and_divide_max_reading(readings_array):\n",
    "    max_val = round(readings_array.max(), 4)\n",
    "    readings_array = np.array([(reading/max_val) for i, reading in enumerate(readings_array)])\n",
    "    return readings_array\n",
    "    \n",
    "def normalize_readings(readings_array):\n",
    "    return find_and_divide_max_reading(find_and_subtract_min_reading(readings_array))\n",
    "\n",
    "\n",
    "# Modeling Results\n",
    "def y_preds(cnn_fitted_model, X): #X_val, X_test\n",
    "    return cnn_fitted_model.predict(X)\n",
    "\n",
    "def y_preds_classes(y_preds): # y_preds comes from previous function\n",
    "    return y_preds.argmax(axis=-1)\n",
    "\n",
    "def y_true_classes(y_true): # y_val_set=_y_val\n",
    "    return y_val.argmax(axis=-1)\n",
    "\n",
    "# Binary Classification matrix\n",
    "def plot_confusion_matrix(y_true_classes, y_preds_classes, \n",
    "                     xticklabels=['Normal', 'Abnormal'], \n",
    "                     yticklabels=['Normal', 'Abnormal'],\n",
    "                     dpi=100):\n",
    "   \n",
    "    conf_matrix = confusion_matrix(y_true_classes, y_preds_classes)\n",
    "    plt.figure(dpi)\n",
    "    sns.heatmap(model_v1_a_confusion, cmap=plt.cm.Blues, annot=True, square=True,\n",
    "               xticklabels=xticklabels,\n",
    "               yticklabels=yticklabels)\n",
    "\n",
    "    plt.xlabel('Predicted')\n",
    "    plt.ylabel('Actual')\n",
    "    plt.title('Model Confusion Matrix');"
   ]
  },
  {
   "cell_type": "markdown",
   "metadata": {
    "heading_collapsed": true
   },
   "source": [
    "## EDA"
   ]
  },
  {
   "cell_type": "markdown",
   "metadata": {
    "heading_collapsed": true,
    "hidden": true
   },
   "source": [
    "### `Normal` Record"
   ]
  },
  {
   "cell_type": "code",
   "execution_count": 3,
   "metadata": {
    "collapsed": true,
    "hidden": true
   },
   "outputs": [],
   "source": [
    "csv_df_100 = import_hb_csv_and_create_df('mitDB/100.csv')\n",
    "txt_df_100 = import_hb_txt_and_create_df('mitDB/100annotations.txt')\n",
    "merged_df_100 = merged_hb_dfs_inner(csv_df_100, txt_df_100)"
   ]
  },
  {
   "cell_type": "code",
   "execution_count": 4,
   "metadata": {
    "hidden": true
   },
   "outputs": [
    {
     "data": {
      "text/html": [
       "<div>\n",
       "<style scoped>\n",
       "    .dataframe tbody tr th:only-of-type {\n",
       "        vertical-align: middle;\n",
       "    }\n",
       "\n",
       "    .dataframe tbody tr th {\n",
       "        vertical-align: top;\n",
       "    }\n",
       "\n",
       "    .dataframe thead th {\n",
       "        text-align: right;\n",
       "    }\n",
       "</style>\n",
       "<table border=\"1\" class=\"dataframe\">\n",
       "  <thead>\n",
       "    <tr style=\"text-align: right;\">\n",
       "      <th></th>\n",
       "      <th>Sample #</th>\n",
       "      <th>MLII</th>\n",
       "      <th>V5</th>\n",
       "      <th>Time</th>\n",
       "      <th>Type</th>\n",
       "      <th>Sub</th>\n",
       "      <th>Chan</th>\n",
       "      <th>Num</th>\n",
       "      <th>Aux</th>\n",
       "    </tr>\n",
       "  </thead>\n",
       "  <tbody>\n",
       "    <tr>\n",
       "      <th>0</th>\n",
       "      <td>18</td>\n",
       "      <td>990</td>\n",
       "      <td>1014</td>\n",
       "      <td>0:00.050</td>\n",
       "      <td>+</td>\n",
       "      <td>0</td>\n",
       "      <td>0</td>\n",
       "      <td>0</td>\n",
       "      <td>(N</td>\n",
       "    </tr>\n",
       "  </tbody>\n",
       "</table>\n",
       "</div>"
      ],
      "text/plain": [
       "   Sample #  MLII    V5      Time Type  Sub  Chan  Num Aux\n",
       "0        18   990  1014  0:00.050    +    0     0    0  (N"
      ]
     },
     "execution_count": 4,
     "metadata": {},
     "output_type": "execute_result"
    }
   ],
   "source": [
    "merged_df_100.head(1)"
   ]
  },
  {
   "cell_type": "code",
   "execution_count": 5,
   "metadata": {
    "hidden": true
   },
   "outputs": [
    {
     "name": "stdout",
     "output_type": "stream",
     "text": [
      "Length of sample CSV: 650000\n",
      "Length of sample TXT: 2274\n"
     ]
    }
   ],
   "source": [
    "print(f\"Length of sample CSV: {len(csv_df_100)}\")\n",
    "print(f\"Length of sample TXT: {len(txt_df_100)}\")"
   ]
  },
  {
   "cell_type": "code",
   "execution_count": 6,
   "metadata": {
    "collapsed": true,
    "hidden": true
   },
   "outputs": [],
   "source": [
    "merged_df_100_2 = merged_hb_dfs_outer(csv_df_100, txt_df_100)"
   ]
  },
  {
   "cell_type": "markdown",
   "metadata": {
    "heading_collapsed": true,
    "hidden": true
   },
   "source": [
    "### Visualize Heartbeats"
   ]
  },
  {
   "cell_type": "markdown",
   "metadata": {
    "heading_collapsed": true,
    "hidden": true
   },
   "source": [
    "#### [200] Normal / premature Ventricular contraction fluctuation (N/V)"
   ]
  },
  {
   "cell_type": "code",
   "execution_count": 84,
   "metadata": {
    "hidden": true
   },
   "outputs": [
    {
     "data": {
      "image/png": "[encoded data removed]",
      "text/plain": [
       "<Figure size 1440x288 with 1 Axes>"
      ]
     },
     "metadata": {
      "needs_background": "light"
     },
     "output_type": "display_data"
    }
   ],
   "source": [
    "csv_df_200 = import_hb_csv_and_create_df('mitDB/200.csv')\n",
    "txt_df_200 = import_hb_txt_and_create_df('mitDB/200annotations.txt')\n",
    "merged_df_200 = merged_hb_dfs_inner(csv_df_200, txt_df_200)\n",
    "\n",
    "plot_heartbeat(csv_df_200, txt_df_200)"
   ]
  },
  {
   "cell_type": "markdown",
   "metadata": {
    "hidden": true
   },
   "source": [
    "#### [208] Normal / premature Ventricular contraction / Fusion of ventricular and normal beat fluctuation (N/V/F)"
   ]
  },
  {
   "cell_type": "code",
   "execution_count": 85,
   "metadata": {
    "hidden": true
   },
   "outputs": [
    {
     "data": {
      "image/png": "[encoded data removed]",
      "text/plain": [
       "<Figure size 1440x288 with 1 Axes>"
      ]
     },
     "metadata": {
      "needs_background": "light"
     },
     "output_type": "display_data"
    }
   ],
   "source": [
    "csv_df_208 = import_hb_csv_and_create_df('mitDB/208.csv')\n",
    "txt_df_208 = import_hb_txt_and_create_df('mitDB/208annotations.txt')\n",
    "merged_df_208 = merged_hb_dfs_inner(csv_df_208, txt_df_208)\n",
    "\n",
    "plot_heartbeat(csv_df_208, txt_df_208)"
   ]
  },
  {
   "cell_type": "markdown",
   "metadata": {
    "hidden": true
   },
   "source": [
    "#### [207] Right bundle / premature Ventricular contr / Left bundle / ventricular flutter wave) (R/V/L/!)"
   ]
  },
  {
   "cell_type": "code",
   "execution_count": 86,
   "metadata": {
    "hidden": true
   },
   "outputs": [
    {
     "data": {
      "image/png": "[encoded data removed]",
      "text/plain": [
       "<Figure size 1440x288 with 1 Axes>"
      ]
     },
     "metadata": {
      "needs_background": "light"
     },
     "output_type": "display_data"
    }
   ],
   "source": [
    "csv_df_207 = import_hb_csv_and_create_df('mitDB/207.csv')\n",
    "txt_df_207 = import_hb_txt_and_create_df('mitDB/207annotations.txt')\n",
    "merged_df_207 = merged_hb_dfs_inner(csv_df_207, txt_df_207)\n",
    "\n",
    "plot_heartbeat(csv_df_207, txt_df_207)"
   ]
  },
  {
   "cell_type": "markdown",
   "metadata": {
    "heading_collapsed": true
   },
   "source": [
    "## Preprocessing"
   ]
  },
  {
   "cell_type": "markdown",
   "metadata": {
    "heading_collapsed": true,
    "hidden": true
   },
   "source": [
    "### Create dataframe for each file and save as csv/pickle file."
   ]
  },
  {
   "cell_type": "code",
   "execution_count": 40,
   "metadata": {
    "collapsed": true,
    "hidden": true
   },
   "outputs": [],
   "source": [
    "files = [100, 101, 102, 103, 104, 105, 106, 107, 108, 109,\n",
    "         111, 112, 113, 114, 115, 116, 117, 118, 119, 121,\n",
    "         122, 123, 124, 200, 201, 202, 203, 205, 207, 208, \n",
    "         209, 210, 212, 213, 214, 215, 217, 219, 220, 221, \n",
    "         222, 223, 228, 230, 231, 232, 233, 234]"
   ]
  },
  {
   "cell_type": "code",
   "execution_count": 91,
   "metadata": {
    "collapsed": true,
    "hidden": true
   },
   "outputs": [
    {
     "name": "stdout",
     "output_type": "stream",
     "text": [
      "100 Complete!\n",
      "101 Complete!\n",
      "102 Complete!\n",
      "103 Complete!\n",
      "104 Complete!\n",
      "105 Complete!\n",
      "106 Complete!\n",
      "107 Complete!\n",
      "108 Complete!\n",
      "109 Complete!\n",
      "111 Complete!\n",
      "112 Complete!\n",
      "113 Complete!\n",
      "114 Complete!\n",
      "115 Complete!\n",
      "116 Complete!\n",
      "117 Complete!\n",
      "118 Complete!\n",
      "119 Complete!\n",
      "121 Complete!\n",
      "122 Complete!\n",
      "123 Complete!\n",
      "124 Complete!\n",
      "200 Complete!\n",
      "201 Complete!\n",
      "202 Complete!\n",
      "203 Complete!\n",
      "205 Complete!\n",
      "207 Complete!\n",
      "208 Complete!\n",
      "209 Complete!\n",
      "210 Complete!\n",
      "212 Complete!\n",
      "213 Complete!\n",
      "214 Complete!\n",
      "215 Complete!\n",
      "217 Complete!\n",
      "219 Complete!\n",
      "220 Complete!\n",
      "221 Complete!\n",
      "222 Complete!\n",
      "223 Complete!\n",
      "228 Complete!\n",
      "230 Complete!\n",
      "231 Complete!\n",
      "232 Complete!\n",
      "233 Complete!\n",
      "234 Complete!\n"
     ]
    }
   ],
   "source": [
    "# iterate through each set of files\n",
    "for f in files:\n",
    "    \n",
    "    # Create separate dfs for each txt & csv file\n",
    "    csv_df = import_hb_csv_and_create_df(f'mitDB/{f}.csv')\n",
    "    txt_df = import_hb_txt_and_create_df(f'mitDB/{f}annotations.txt')\n",
    "    \n",
    "    # Save beats, types, and readings from associated files as lists\n",
    "    # Create list with record # to be able to identify record after later concat dfs\n",
    "    beats = list(txt_df['Sample #'])\n",
    "    types = list(txt_df['Type'])\n",
    "    readings = list(csv_df['MLII'])\n",
    "    record = [f] * len(beats) \n",
    "    \n",
    "    # Create list of readings per beat\n",
    "    # Save dataframe per record with beats, readings vector and types\n",
    "    readings_per_beat = []\n",
    "    prev_a = 0\n",
    "    \n",
    "    for a in beats:\n",
    "        r = readings[prev_a:a+1]\n",
    "        readings_per_beat.append(r)\n",
    "        prev_a = a+1\n",
    "    \n",
    "    df = pd.DataFrame(list(zip(record, beats, readings_per_beat, types)), \n",
    "                      columns=['Record', 'Sample #', 'Readings', 'Type'])\n",
    "    \n",
    "    with open(f'record_dfs/{f}_df.pkl', 'wb') as picklefile:\n",
    "        pickle.dump(df, picklefile)\n",
    "    \n",
    "    print(f'{f} Complete!')"
   ]
  },
  {
   "cell_type": "markdown",
   "metadata": {
    "heading_collapsed": true,
    "hidden": true
   },
   "source": [
    "### Combine record dataframes into single dataframe for modeling."
   ]
  },
  {
   "cell_type": "code",
   "execution_count": 113,
   "metadata": {
    "collapsed": true,
    "hidden": true
   },
   "outputs": [
    {
     "name": "stdout",
     "output_type": "stream",
     "text": [
      "100 Complete\n",
      "101 Complete\n",
      "102 Complete\n",
      "103 Complete\n",
      "104 Complete\n",
      "105 Complete\n",
      "106 Complete\n",
      "107 Complete\n",
      "108 Complete\n",
      "109 Complete\n",
      "111 Complete\n",
      "112 Complete\n",
      "113 Complete\n",
      "114 Complete\n",
      "115 Complete\n",
      "116 Complete\n",
      "117 Complete\n",
      "118 Complete\n",
      "119 Complete\n",
      "121 Complete\n",
      "122 Complete\n",
      "123 Complete\n",
      "124 Complete\n",
      "200 Complete\n",
      "201 Complete\n",
      "202 Complete\n",
      "203 Complete\n",
      "205 Complete\n",
      "207 Complete\n",
      "208 Complete\n",
      "209 Complete\n",
      "210 Complete\n",
      "212 Complete\n",
      "213 Complete\n",
      "214 Complete\n",
      "215 Complete\n",
      "217 Complete\n",
      "219 Complete\n",
      "220 Complete\n",
      "221 Complete\n",
      "222 Complete\n",
      "223 Complete\n",
      "228 Complete\n",
      "230 Complete\n",
      "231 Complete\n",
      "232 Complete\n",
      "233 Complete\n",
      "234 Complete\n"
     ]
    }
   ],
   "source": [
    "# Concantenate dataframes\n",
    "model_df = pd.DataFrame()\n",
    "\n",
    "for f in files:\n",
    "    with open(f'record_dfs/{f}_df.pkl', 'rb') as picklefile:\n",
    "        df = pickle.load(picklefile)\n",
    "    model_df = pd.concat([model_df, df], ignore_index=True)\n",
    "    print(f'{f} Complete')\n",
    "\n",
    "with open('records_df.pkl', 'wb') as picklefile2:\n",
    "    pickle.dump(model_df, picklefile2)"
   ]
  },
  {
   "cell_type": "markdown",
   "metadata": {
    "heading_collapsed": true,
    "hidden": true
   },
   "source": [
    "### Complete preprocessing steps"
   ]
  },
  {
   "cell_type": "code",
   "execution_count": null,
   "metadata": {
    "hidden": true
   },
   "outputs": [],
   "source": [
    "with open('records_df.pkl', 'rb') as picklefile:\n",
    "    model_df = pickle.load(picklefile)"
   ]
  },
  {
   "cell_type": "code",
   "execution_count": 209,
   "metadata": {
    "collapsed": true,
    "hidden": true
   },
   "outputs": [],
   "source": [
    "# Remove paced beats and non-beat annotations\n",
    "excluded_annots = ['[', ']', 'f', '~', '!', '\"', 'x', '|', 'Q', '/', '+']\n",
    "for annot in excluded_annots:\n",
    "    model_df = model_df[(model_df['Type'] != annot)]\n",
    "    \n",
    "model_df = model_df.reset_index(drop=True)"
   ]
  },
  {
   "cell_type": "code",
   "execution_count": 208,
   "metadata": {
    "collapsed": true,
    "hidden": true
   },
   "outputs": [],
   "source": [
    "# Remove 22 potential \"incomplete\" heartbeats from 2nd sample reading \n",
    "model_df['Readings Count'] = model_df['Readings'].copy().apply(lambda x: len(x))\n",
    "indices_to_remove = list(model_df[(model_df['Readings Count'] < 100) & (model_df['Sample #'] < 200)].reset_index()['index'])\n",
    "model_df = model_df.drop(model_df.index[indices_to_remove]).reset_index(drop=True)"
   ]
  },
  {
   "cell_type": "code",
   "execution_count": 232,
   "metadata": {
    "collapsed": true,
    "hidden": true
   },
   "outputs": [],
   "source": [
    "# Create column to label as normal/not normal for MVP (0 = Normal, 1 = Not Normal)\n",
    "model_df['Type_Normal'] = model_df['Type'].copy().apply(lambda x: 0 if (x==\"N\") else 1)"
   ]
  },
  {
   "cell_type": "markdown",
   "metadata": {
    "hidden": true
   },
   "source": [
    "#### Upsample readings to 2200 as highest # of readings is 2114 (ID 97741) & normalize"
   ]
  },
  {
   "cell_type": "code",
   "execution_count": 638,
   "metadata": {
    "collapsed": true,
    "hidden": true
   },
   "outputs": [],
   "source": [
    "# Upsample\n",
    "model_df['Upsampled Readings'] = model_df['Readings'].apply(lambda v: upsample(v))\n",
    "\n",
    "# vectors are length of 2200 & 2201; reducing to 2200\n",
    "model_df['Upsampled Readings'] = model_df['Upsampled Readings'].apply(lambda x: x[0:-1] if (len(x) == 2201) else x)\n",
    "\n",
    "#Normalize data\n",
    "model_df['Norm Upsampled Readings'] = model_df['Upsampled Readings'].copy().apply(lambda x: normalize_readings(x))\n",
    "\n",
    "# Reshape data into 2d numpy array of size (2200, 1)\n",
    "model_df['Norm Upsampled Readings'] = model_df['Norm Upsampled Readings'].apply(lambda x: np.reshape(x, (2200, 1)))\n",
    "\n",
    "# Reorder columns\n",
    "model_df = model_df[['Record', 'Sample #', 'Readings Count', 'Upsampled Readings', 'Norm Upsampled Readings', 'Type', 'Type_Normal']]"
   ]
  },
  {
   "cell_type": "code",
   "execution_count": null,
   "metadata": {
    "hidden": true
   },
   "outputs": [],
   "source": [
    "with open('model_df_base.pkl' ,'wb') as picklefile:\n",
    "    pickle.dump(model_df, picklefile)"
   ]
  },
  {
   "cell_type": "markdown",
   "metadata": {
    "heading_collapsed": true
   },
   "source": [
    "## Modeling"
   ]
  },
  {
   "cell_type": "markdown",
   "metadata": {
    "heading_collapsed": true,
    "hidden": true
   },
   "source": [
    "### Binary"
   ]
  },
  {
   "cell_type": "code",
   "execution_count": 103,
   "metadata": {
    "hidden": true
   },
   "outputs": [],
   "source": [
    "with open('model_df_base.pkl', 'rb') as picklefile:\n",
    "    model_df = pickle.load(picklefile)\n",
    "    \n",
    "model_df_bc = model_df.copy()"
   ]
  },
  {
   "cell_type": "markdown",
   "metadata": {
    "heading_collapsed": true,
    "hidden": true
   },
   "source": [
    "#### Split into training/validation/testing data"
   ]
  },
  {
   "cell_type": "code",
   "execution_count": 122,
   "metadata": {
    "hidden": true
   },
   "outputs": [],
   "source": [
    "obs = model_df_bc[['Record', 'Sample #', 'Readings Count', 'Upsampled Readings', 'Norm Upsampled Readings', 'Type']]\n",
    "label = model_df_bc['Type_Normal']"
   ]
  },
  {
   "cell_type": "code",
   "execution_count": 123,
   "metadata": {
    "hidden": true
   },
   "outputs": [],
   "source": [
    "X, X_test, y, y_test = (train_test_split(obs, label, test_size = .2, random_state = 42))\n",
    "\n",
    "X_train, X_val, y_train, y_val = (train_test_split(X, y, test_size = .25, random_state = 42))"
   ]
  },
  {
   "cell_type": "code",
   "execution_count": 152,
   "metadata": {
    "collapsed": true,
    "hidden": true
   },
   "outputs": [
    {
     "name": "stderr",
     "output_type": "stream",
     "text": [
      "//anaconda3/lib/python3.7/site-packages/ipykernel_launcher.py:2: FutureWarning: Method .as_matrix will be removed in a future version. Use .values instead.\n",
      "  \n",
      "//anaconda3/lib/python3.7/site-packages/ipykernel_launcher.py:3: FutureWarning: Method .as_matrix will be removed in a future version. Use .values instead.\n",
      "  This is separate from the ipykernel package so we can avoid doing imports until\n",
      "//anaconda3/lib/python3.7/site-packages/ipykernel_launcher.py:4: FutureWarning: Method .as_matrix will be removed in a future version. Use .values instead.\n",
      "  after removing the cwd from sys.path.\n"
     ]
    }
   ],
   "source": [
    "_X_train = X_train['Norm Upsampled Readings']\n",
    "_X_val = X_val['Norm Upsampled Readings']\n",
    "_X_test = X_test['Norm Upsampled Readings']\n",
    "\n",
    "_X_train = np.concatenate(_X_train.as_matrix(), axis=0).reshape(60858, 2200, 1)\n",
    "_X_val = np.concatenate(_X_val.as_matrix(), axis=0).reshape(20286, 2200, 1)\n",
    "_X_test = np.concatenate(_X_test.as_matrix(), axis=0).reshape(20287, 2200, 1)\n",
    "\n",
    "_y_train = np_utils.to_categorical(y_train)\n",
    "_y_val = np_utils.to_categorical(y_val)\n",
    "_y_test = np_utils.to_categorical(y_test)\n",
    "\n",
    "# Full Training (with validation) and testing\n",
    "_X = X['Norm Upsampled Readings']\n",
    "_X = np.concatenate(_X.as_matrix(), axis=0).reshape(81144, 2200, 1)\n",
    "\n",
    "_y = np_utils.to_categorical(y)"
   ]
  },
  {
   "cell_type": "code",
   "execution_count": 329,
   "metadata": {
    "hidden": true
   },
   "outputs": [],
   "source": [
    "#Address class imbalance by adding weights \n",
    "# 0    75038\n",
    "# 1    26393\n",
    "class_weights = {0: 0.35,\n",
    "                1: 0.65}"
   ]
  },
  {
   "cell_type": "markdown",
   "metadata": {
    "heading_collapsed": true,
    "hidden": true
   },
   "source": [
    "#### Model"
   ]
  },
  {
   "cell_type": "code",
   "execution_count": 331,
   "metadata": {
    "collapsed": true,
    "hidden": true
   },
   "outputs": [
    {
     "name": "stderr",
     "output_type": "stream",
     "text": [
      "//anaconda3/lib/python3.7/site-packages/ipykernel_launcher.py:23: UserWarning: Update your `Model` call to the Keras 2 API: `Model(inputs=Tensor(\"in..., outputs=Tensor(\"de...)`\n"
     ]
    },
    {
     "name": "stdout",
     "output_type": "stream",
     "text": [
      "Model: \"model_30\"\n",
      "_________________________________________________________________\n",
      "Layer (type)                 Output Shape              Param #   \n",
      "=================================================================\n",
      "input_30 (InputLayer)        (None, 2200, 1)           0         \n",
      "_________________________________________________________________\n",
      "conv1d_131 (Conv1D)          (None, 2200, 32)          288       \n",
      "_________________________________________________________________\n",
      "max_pooling1d_131 (MaxPoolin (None, 1100, 32)          0         \n",
      "_________________________________________________________________\n",
      "conv1d_132 (Conv1D)          (None, 1100, 32)          8224      \n",
      "_________________________________________________________________\n",
      "max_pooling1d_132 (MaxPoolin (None, 550, 32)           0         \n",
      "_________________________________________________________________\n",
      "conv1d_133 (Conv1D)          (None, 550, 32)           8224      \n",
      "_________________________________________________________________\n",
      "max_pooling1d_133 (MaxPoolin (None, 275, 32)           0         \n",
      "_________________________________________________________________\n",
      "conv1d_134 (Conv1D)          (None, 275, 32)           8224      \n",
      "_________________________________________________________________\n",
      "max_pooling1d_134 (MaxPoolin (None, 138, 32)           0         \n",
      "_________________________________________________________________\n",
      "conv1d_135 (Conv1D)          (None, 138, 32)           8224      \n",
      "_________________________________________________________________\n",
      "max_pooling1d_135 (MaxPoolin (None, 69, 32)            0         \n",
      "_________________________________________________________________\n",
      "flatten_30 (Flatten)         (None, 2208)              0         \n",
      "_________________________________________________________________\n",
      "dense_30 (Dense)             (None, 2)                 4418      \n",
      "=================================================================\n",
      "Total params: 37,602\n",
      "Trainable params: 37,602\n",
      "Non-trainable params: 0\n",
      "_________________________________________________________________\n",
      "Train on 81144 samples, validate on 20287 samples\n",
      "Epoch 1/25\n",
      "81144/81144 [==============================] - 436s 5ms/step - loss: 0.1482 - accuracy: 0.8741 - val_loss: 0.1809 - val_accuracy: 0.9412\n",
      "\n",
      "Epoch 00001: saving model to model-001-0.874094-0.941218.h5\n",
      "Epoch 2/25\n",
      "81144/81144 [==============================] - 402s 5ms/step - loss: 0.0796 - accuracy: 0.9456 - val_loss: 0.1550 - val_accuracy: 0.9525\n",
      "\n",
      "Epoch 00002: saving model to model-002-0.945646-0.952482.h5\n",
      "Epoch 3/25\n",
      "81144/81144 [==============================] - 404s 5ms/step - loss: 0.0680 - accuracy: 0.9546 - val_loss: 0.1634 - val_accuracy: 0.9465\n",
      "\n",
      "Epoch 00003: saving model to model-003-0.954599-0.946542.h5\n",
      "Epoch 4/25\n",
      "81144/81144 [==============================] - 402s 5ms/step - loss: 0.0633 - accuracy: 0.9576 - val_loss: 0.1314 - val_accuracy: 0.9589\n",
      "\n",
      "Epoch 00004: saving model to model-004-0.957631-0.958865.h5\n",
      "Epoch 5/25\n",
      "81144/81144 [==============================] - 405s 5ms/step - loss: 0.0604 - accuracy: 0.9590 - val_loss: 0.1237 - val_accuracy: 0.9607\n",
      "\n",
      "Epoch 00005: saving model to model-005-0.959030-0.960738.h5\n",
      "Epoch 6/25\n",
      "81144/81144 [==============================] - 403s 5ms/step - loss: 0.0571 - accuracy: 0.9614 - val_loss: 0.1566 - val_accuracy: 0.9483\n",
      "\n",
      "Epoch 00006: saving model to model-006-0.961353-0.948292.h5\n",
      "Epoch 7/25\n",
      "81144/81144 [==============================] - 401s 5ms/step - loss: 0.0550 - accuracy: 0.9621 - val_loss: 0.1307 - val_accuracy: 0.9564\n",
      "\n",
      "Epoch 00007: saving model to model-007-0.962141-0.956351.h5\n",
      "Epoch 8/25\n",
      "81144/81144 [==============================] - 406s 5ms/step - loss: 0.0532 - accuracy: 0.9633 - val_loss: 0.1151 - val_accuracy: 0.9628\n",
      "\n",
      "Epoch 00008: saving model to model-008-0.963349-0.962833.h5\n",
      "Epoch 9/25\n",
      "81144/81144 [==============================] - 405s 5ms/step - loss: 0.0510 - accuracy: 0.9650 - val_loss: 0.1065 - val_accuracy: 0.9653\n",
      "\n",
      "Epoch 00009: saving model to model-009-0.964957-0.965298.h5\n",
      "Epoch 10/25\n",
      "81144/81144 [==============================] - 433s 5ms/step - loss: 0.0488 - accuracy: 0.9660 - val_loss: 0.1116 - val_accuracy: 0.9629\n",
      "\n",
      "Epoch 00010: saving model to model-010-0.966042-0.962907.h5\n",
      "Epoch 11/25\n",
      "81144/81144 [==============================] - 452s 6ms/step - loss: 0.0472 - accuracy: 0.9667 - val_loss: 0.1010 - val_accuracy: 0.9674\n",
      "\n",
      "Epoch 00011: saving model to model-011-0.966738-0.967442.h5\n",
      "Epoch 12/25\n",
      "81144/81144 [==============================] - 456s 6ms/step - loss: 0.0458 - accuracy: 0.9672 - val_loss: 0.1029 - val_accuracy: 0.9654\n",
      "\n",
      "Epoch 00012: saving model to model-012-0.967237-0.965446.h5\n",
      "Epoch 13/25\n",
      "81144/81144 [==============================] - 451s 6ms/step - loss: 0.0445 - accuracy: 0.9683 - val_loss: 0.1012 - val_accuracy: 0.9663\n",
      "\n",
      "Epoch 00013: saving model to model-013-0.968279-0.966259.h5\n",
      "Epoch 14/25\n",
      "81144/81144 [==============================] - 452s 6ms/step - loss: 0.0439 - accuracy: 0.9689 - val_loss: 0.0960 - val_accuracy: 0.9693\n",
      "\n",
      "Epoch 00014: saving model to model-014-0.968889-0.969340.h5\n",
      "Epoch 15/25\n",
      "81144/81144 [==============================] - 421s 5ms/step - loss: 0.0423 - accuracy: 0.9694 - val_loss: 0.1001 - val_accuracy: 0.9673\n",
      "\n",
      "Epoch 00015: saving model to model-015-0.969375-0.967270.h5\n",
      "Epoch 16/25\n",
      "81144/81144 [==============================] - 369s 5ms/step - loss: 0.0412 - accuracy: 0.9702 - val_loss: 0.0970 - val_accuracy: 0.9688\n",
      "\n",
      "Epoch 00016: saving model to model-016-0.970244-0.968773.h5\n",
      "Epoch 17/25\n",
      "81144/81144 [==============================] - 368s 5ms/step - loss: 0.0397 - accuracy: 0.9712 - val_loss: 0.1072 - val_accuracy: 0.9652\n",
      "\n",
      "Epoch 00017: saving model to model-017-0.971242-0.965224.h5\n",
      "Epoch 18/25\n",
      "81144/81144 [==============================] - 368s 5ms/step - loss: 0.0390 - accuracy: 0.9715 - val_loss: 0.0901 - val_accuracy: 0.9705\n",
      "\n",
      "Epoch 00018: saving model to model-018-0.971495-0.970548.h5\n",
      "Epoch 19/25\n",
      "81144/81144 [==============================] - 373s 5ms/step - loss: 0.0383 - accuracy: 0.9717 - val_loss: 0.1135 - val_accuracy: 0.9619\n",
      "\n",
      "Epoch 00019: saving model to model-019-0.971723-0.961897.h5\n",
      "Epoch 20/25\n",
      "81144/81144 [==============================] - 430s 5ms/step - loss: 0.0372 - accuracy: 0.9725 - val_loss: 0.0923 - val_accuracy: 0.9710\n",
      "\n",
      "Epoch 00020: saving model to model-020-0.972537-0.971041.h5\n",
      "Epoch 21/25\n",
      "81144/81144 [==============================] - 452s 6ms/step - loss: 0.0359 - accuracy: 0.9735 - val_loss: 0.0922 - val_accuracy: 0.9706\n",
      "\n",
      "Epoch 00021: saving model to model-021-0.973541-0.970646.h5\n",
      "Epoch 22/25\n",
      "81144/81144 [==============================] - 419s 5ms/step - loss: 0.0361 - accuracy: 0.9731 - val_loss: 0.1164 - val_accuracy: 0.9612\n",
      "\n",
      "Epoch 00022: saving model to model-022-0.973079-0.961157.h5\n",
      "Epoch 23/25\n",
      "81144/81144 [==============================] - 431s 5ms/step - loss: 0.0344 - accuracy: 0.9742 - val_loss: 0.1048 - val_accuracy: 0.9634\n",
      "\n",
      "Epoch 00023: saving model to model-023-0.974213-0.963425.h5\n",
      "Epoch 24/25\n",
      "81144/81144 [==============================] - 428s 5ms/step - loss: 0.0337 - accuracy: 0.9746 - val_loss: 0.0864 - val_accuracy: 0.9719\n",
      "\n",
      "Epoch 00024: saving model to model-024-0.974551-0.971903.h5\n",
      "Epoch 25/25\n",
      "81144/81144 [==============================] - 423s 5ms/step - loss: 0.0332 - accuracy: 0.9753 - val_loss: 0.1024 - val_accuracy: 0.9657\n",
      "\n",
      "Epoch 00025: saving model to model-025-0.975278-0.965717.h5\n"
     ]
    }
   ],
   "source": [
    "input_shape = Input(shape=(2200, 1)) \n",
    "\n",
    "mc_bc = ModelCheckpoint('model-{epoch:03d}-{accuracy:03f}-{val_accuracy:03f}.h5', verbose=1, monitor='val_loss', save_best_only=False)\n",
    "\n",
    "conv_e1 = Conv1D(32, 8, activation='relu', padding='same')(input_shape)\n",
    "pool_e1 = MaxPooling1D(2, padding='same')(conv_e1)\n",
    "\n",
    "conv_e2 = Conv1D(32, 8, activation='relu', padding='same')(pool_e1)\n",
    "pool_e2 = MaxPooling1D(2, padding='same')(conv_e2)\n",
    "\n",
    "conv_e3 = Conv1D(32, 8, activation='relu', padding='same')(pool_e2)\n",
    "pool_e3 = MaxPooling1D(2, padding='same')(conv_e3)\n",
    "\n",
    "conv_e4 = Conv1D(32, 8, activation='relu', padding='same')(pool_e3)\n",
    "pool_e4 = MaxPooling1D(2, padding='same')(conv_e4)\n",
    "\n",
    "conv_e5 = Conv1D(32, 8, activation='relu', padding='same')(pool_e4)\n",
    "pool_e5 = MaxPooling1D(2, padding='same')(conv_e5)\n",
    "\n",
    "flattened_layer = Flatten()(pool_e5)\n",
    "last_layer = Dense(2, activation='sigmoid')(flattened_layer) \n",
    "\n",
    "model_bc_final = Model(input=input_shape, output=last_layer)\n",
    "model_bc_final.compile(loss='binary_crossentropy', optimizer='adam', metrics=['accuracy']) \n",
    "\n",
    "model_bc_final.summary()\n",
    "\n",
    "model_bc_final_history = model_bc_final.fit(_X, _y, validation_data=(_X_test, _y_test), epochs=25, batch_size=512, verbose=1, class_weight=class_weights, callbacks=[mc_bc])"
   ]
  },
  {
   "cell_type": "markdown",
   "metadata": {
    "hidden": true
   },
   "source": [
    "#### Results"
   ]
  },
  {
   "cell_type": "markdown",
   "metadata": {
    "heading_collapsed": true,
    "hidden": true
   },
   "source": [
    "##### View model history. Plot accuracy and loss."
   ]
  },
  {
   "cell_type": "code",
   "execution_count": 332,
   "metadata": {
    "collapsed": true,
    "hidden": true
   },
   "outputs": [
    {
     "data": {
      "text/plain": [
       "{'val_loss': [0.18086643142413322,\n",
       "  0.15503619958176,\n",
       "  0.1633693174973983,\n",
       "  0.13144758082281735,\n",
       "  0.12372076792042282,\n",
       "  0.15659765515910015,\n",
       "  0.13072195637100942,\n",
       "  0.11505194553803239,\n",
       "  0.10648575444539278,\n",
       "  0.11164999875423795,\n",
       "  0.1009813565387165,\n",
       "  0.10293706631028189,\n",
       "  0.10119291808666071,\n",
       "  0.0959841495316178,\n",
       "  0.10008695112454002,\n",
       "  0.09696259669577229,\n",
       "  0.1071863866787544,\n",
       "  0.09011357347337492,\n",
       "  0.11354969775288315,\n",
       "  0.09227335837039316,\n",
       "  0.09220593932149515,\n",
       "  0.11640205867847438,\n",
       "  0.10483703012313533,\n",
       "  0.08639297281280502,\n",
       "  0.10236392805365019],\n",
       " 'val_accuracy': [0.9412184953689575,\n",
       "  0.9524818658828735,\n",
       "  0.9465421438217163,\n",
       "  0.9588652849197388,\n",
       "  0.9607384204864502,\n",
       "  0.9482920169830322,\n",
       "  0.9563513398170471,\n",
       "  0.9628333449363708,\n",
       "  0.9652979969978333,\n",
       "  0.9629072546958923,\n",
       "  0.9674422144889832,\n",
       "  0.965445876121521,\n",
       "  0.9662591814994812,\n",
       "  0.9693399667739868,\n",
       "  0.9672696590423584,\n",
       "  0.9687731266021729,\n",
       "  0.965224027633667,\n",
       "  0.970547616481781,\n",
       "  0.9618967771530151,\n",
       "  0.9710405468940735,\n",
       "  0.9706462025642395,\n",
       "  0.9611573815345764,\n",
       "  0.9634248614311218,\n",
       "  0.9719032049179077,\n",
       "  0.9657169580459595],\n",
       " 'loss': [0.14817779289304558,\n",
       "  0.07964519847430128,\n",
       "  0.06801488858667937,\n",
       "  0.06331484505957569,\n",
       "  0.060364549331874594,\n",
       "  0.05713458515628019,\n",
       "  0.05500755085549528,\n",
       "  0.05315861555025162,\n",
       "  0.050950324399918125,\n",
       "  0.04879728901624844,\n",
       "  0.047153193241382486,\n",
       "  0.04580563379455856,\n",
       "  0.04454397705922486,\n",
       "  0.0438755018886149,\n",
       "  0.04230898548070759,\n",
       "  0.04121305524695411,\n",
       "  0.03965009176534543,\n",
       "  0.03903821138528269,\n",
       "  0.03827962435302292,\n",
       "  0.03718648816705966,\n",
       "  0.03593927658348761,\n",
       "  0.03607092334840303,\n",
       "  0.034434476322095495,\n",
       "  0.03367523129367974,\n",
       "  0.03315188375167695],\n",
       " 'accuracy': [0.8740942,\n",
       "  0.945646,\n",
       "  0.9545992,\n",
       "  0.9576309,\n",
       "  0.9590296,\n",
       "  0.96135265,\n",
       "  0.9621414,\n",
       "  0.9633491,\n",
       "  0.96495736,\n",
       "  0.96604186,\n",
       "  0.96673816,\n",
       "  0.96723723,\n",
       "  0.9682786,\n",
       "  0.96888864,\n",
       "  0.96937543,\n",
       "  0.9702442,\n",
       "  0.9712425,\n",
       "  0.9714951,\n",
       "  0.97172314,\n",
       "  0.9725365,\n",
       "  0.97354084,\n",
       "  0.9730787,\n",
       "  0.9742125,\n",
       "  0.97455144,\n",
       "  0.9752785]}"
      ]
     },
     "execution_count": 332,
     "metadata": {},
     "output_type": "execute_result"
    }
   ],
   "source": [
    "model_bc_final_history.history "
   ]
  },
  {
   "cell_type": "code",
   "execution_count": 333,
   "metadata": {
    "collapsed": true,
    "hidden": true
   },
   "outputs": [
    {
     "data": {
      "image/png": "[encoded data removed]",
      "text/plain": [
       "<Figure size 432x288 with 1 Axes>"
      ]
     },
     "metadata": {
      "needs_background": "light"
     },
     "output_type": "display_data"
    }
   ],
   "source": [
    "# Plot/summarize history accuracy & loss\n",
    "plt.plot(model_bc_final_history.history['accuracy'])\n",
    "plt.plot(model_bc_final_history.history['val_accuracy'])\n",
    "plt.title('Model Accuracy')\n",
    "plt.ylabel('Accuracy')\n",
    "plt.xlabel('Epoch')\n",
    "plt.legend(['Train', 'Val'], loc='upper left');"
   ]
  },
  {
   "cell_type": "code",
   "execution_count": 335,
   "metadata": {
    "collapsed": true,
    "hidden": true
   },
   "outputs": [
    {
     "data": {
      "image/png": "[encoded data removed]",
      "text/plain": [
       "<Figure size 432x288 with 1 Axes>"
      ]
     },
     "metadata": {
      "needs_background": "light"
     },
     "output_type": "display_data"
    }
   ],
   "source": [
    "# Plot/summarize history accuracy & loss\n",
    "plt.plot(model_bc_final_history.history['loss'])\n",
    "plt.plot(model_bc_final_history.history['val_loss'])\n",
    "plt.title('Model Loss')\n",
    "plt.ylabel('Loss')\n",
    "plt.xlabel('Epoch')\n",
    "plt.legend(['Train', 'Val'], loc='upper left');"
   ]
  },
  {
   "cell_type": "markdown",
   "metadata": {
    "heading_collapsed": true,
    "hidden": true
   },
   "source": [
    "##### Plot confusion matrix. Investigate incorrect predictions."
   ]
  },
  {
   "cell_type": "code",
   "execution_count": 348,
   "metadata": {
    "hidden": true
   },
   "outputs": [],
   "source": [
    "y_preds_bc = model_bc_final.predict(_X_test)\n",
    "y_preds_classes_bc = y_preds_bc.argmax(axis=-1)\n",
    "y_true_classes_bc = _y_test.argmax(axis=-1)"
   ]
  },
  {
   "cell_type": "code",
   "execution_count": 376,
   "metadata": {
    "hidden": true
   },
   "outputs": [
    {
     "data": {
      "image/png": "[encoded data removed]",
      "text/plain": [
       "<Figure size 600x400 with 2 Axes>"
      ]
     },
     "metadata": {
      "needs_background": "light"
     },
     "output_type": "display_data"
    }
   ],
   "source": [
    "model_bc_final_confusion = confusion_matrix(y_true_classes_bc, y_preds_classes_bc)\n",
    "model_bc_final_confusion_pct = model_bc_final_confusion.astype('float') / model_bc_final_confusion.sum(axis=1)[:, np.newaxis]\n",
    "plt.figure(dpi=100)\n",
    "sns.heatmap(model_bc_final_confusion_pct, cmap=plt.cm.Blues, annot=True, square=True,\n",
    "           xticklabels=['Normal', 'Abnormal'],\n",
    "           yticklabels=['Normal', 'Abnormal'])\n",
    "\n",
    "plt.xlabel('Predicted')\n",
    "plt.ylabel('Actual')\n",
    "plt.title('Model confusion matrix (pct)');"
   ]
  },
  {
   "cell_type": "code",
   "execution_count": 352,
   "metadata": {
    "hidden": true
   },
   "outputs": [],
   "source": [
    "comparison_df_bc = pd.DataFrame(X_test)\n",
    "comparison_df_bc['y_test'] = y_test\n",
    "comparison_df_bc['y_pred'] = y_preds_classes_bc"
   ]
  },
  {
   "cell_type": "code",
   "execution_count": 353,
   "metadata": {
    "hidden": true
   },
   "outputs": [],
   "source": [
    "incorrect_detection = comparison_df_bc[comparison_df_bc['y_test'] != comparison_df_bc['y_pred']]['Type'].value_counts()"
   ]
  },
  {
   "cell_type": "code",
   "execution_count": 354,
   "metadata": {
    "hidden": true
   },
   "outputs": [
    {
     "data": {
      "text/plain": [
       "N    347\n",
       "A     93\n",
       "R     80\n",
       "L     52\n",
       "V     51\n",
       "j     27\n",
       "F     23\n",
       "a      6\n",
       "J      6\n",
       "E      3\n",
       "e      2\n",
       "S      1\n",
       "Name: Type, dtype: int64"
      ]
     },
     "execution_count": 354,
     "metadata": {},
     "output_type": "execute_result"
    }
   ],
   "source": [
    "## Which were incorrectly diagnosed\n",
    "incorrect_detection"
   ]
  },
  {
   "cell_type": "markdown",
   "metadata": {
    "heading_collapsed": true,
    "hidden": true
   },
   "source": [
    "##### View classification metrics."
   ]
  },
  {
   "cell_type": "code",
   "execution_count": 381,
   "metadata": {
    "hidden": true
   },
   "outputs": [
    {
     "data": {
      "text/plain": [
       "0.9659387785281215"
      ]
     },
     "execution_count": 381,
     "metadata": {},
     "output_type": "execute_result"
    }
   ],
   "source": [
    "accuracy_score(y_true_classes_bc, y_preds_classes_bc)"
   ]
  },
  {
   "cell_type": "code",
   "execution_count": 378,
   "metadata": {
    "hidden": true,
    "scrolled": true
   },
   "outputs": [
    {
     "data": {
      "text/plain": [
       "0.9343300529901589"
      ]
     },
     "execution_count": 378,
     "metadata": {},
     "output_type": "execute_result"
    }
   ],
   "source": [
    "precision_score(y_true_classes_bc, y_preds_classes_bc)"
   ]
  },
  {
   "cell_type": "code",
   "execution_count": 379,
   "metadata": {
    "hidden": true
   },
   "outputs": [
    {
     "data": {
      "text/plain": [
       "0.9348608218140504"
      ]
     },
     "execution_count": 379,
     "metadata": {},
     "output_type": "execute_result"
    }
   ],
   "source": [
    "recall_score(y_true_classes_bc, y_preds_classes_bc)"
   ]
  },
  {
   "cell_type": "code",
   "execution_count": 380,
   "metadata": {
    "hidden": true
   },
   "outputs": [
    {
     "data": {
      "text/plain": [
       "0.9345953620444866"
      ]
     },
     "execution_count": 380,
     "metadata": {},
     "output_type": "execute_result"
    }
   ],
   "source": [
    "f1_score(y_true_classes_bc, y_preds_classes_bc)"
   ]
  },
  {
   "cell_type": "markdown",
   "metadata": {
    "heading_collapsed": true,
    "hidden": true
   },
   "source": [
    "### Multi-Class"
   ]
  },
  {
   "cell_type": "code",
   "execution_count": 238,
   "metadata": {
    "hidden": true
   },
   "outputs": [],
   "source": [
    "with open('model_df_base.pkl', 'rb') as picklefile:\n",
    "    model_df = pickle.load(picklefile)\n",
    "\n",
    "model_df_mc = model_df.copy()"
   ]
  },
  {
   "cell_type": "markdown",
   "metadata": {
    "hidden": true
   },
   "source": [
    "#### Additional Preprocessing"
   ]
  },
  {
   "cell_type": "markdown",
   "metadata": {
    "heading_collapsed": true,
    "hidden": true
   },
   "source": [
    "#####  Remove underrepresented beats (<2000)"
   ]
  },
  {
   "cell_type": "code",
   "execution_count": 241,
   "metadata": {
    "collapsed": true,
    "hidden": true
   },
   "outputs": [
    {
     "data": {
      "text/plain": [
       "N    75038\n",
       "L     8073\n",
       "R     7257\n",
       "V     7129\n",
       "A     2546\n",
       "F      802\n",
       "j      229\n",
       "a      150\n",
       "E      106\n",
       "J       83\n",
       "e       16\n",
       "S        2\n",
       "Name: Type, dtype: int64"
      ]
     },
     "execution_count": 241,
     "metadata": {},
     "output_type": "execute_result"
    }
   ],
   "source": [
    "model_df_mc['Type'].value_counts()\n",
    "\n",
    "'''\n",
    "N    75038\n",
    "L     8073\n",
    "R     7257\n",
    "V     7129\n",
    "A     2546\n",
    "------\n",
    "F      802\n",
    "j      229\n",
    "a      150\n",
    "E      106\n",
    "J       83\n",
    "e       16\n",
    "S        2\n",
    "'''"
   ]
  },
  {
   "cell_type": "code",
   "execution_count": 242,
   "metadata": {
    "hidden": true
   },
   "outputs": [],
   "source": [
    "excluded_annots_mc = ['F', 'j', 'a', 'E', 'J', 'e', 'S']\n",
    "\n",
    "for annot in excluded_annots_mc:\n",
    "    model_df_mc = model_df_mc[(model_df_mc['Type'] != annot)]\n",
    "    \n",
    "model_df_mc = model_df_mc.reset_index(drop=True)"
   ]
  },
  {
   "cell_type": "markdown",
   "metadata": {
    "heading_collapsed": true,
    "hidden": true
   },
   "source": [
    "#### Split into training/validation/testing data"
   ]
  },
  {
   "cell_type": "code",
   "execution_count": 245,
   "metadata": {
    "hidden": true
   },
   "outputs": [],
   "source": [
    "obs_mc = model_df_mc[['Record', 'Sample #', 'Readings Count', 'Upsampled Readings', 'Norm Upsampled Readings']]\n",
    "label_mc = model_df_mc['Type']"
   ]
  },
  {
   "cell_type": "code",
   "execution_count": 274,
   "metadata": {
    "hidden": true
   },
   "outputs": [
    {
     "name": "stderr",
     "output_type": "stream",
     "text": [
      "//anaconda3/lib/python3.7/site-packages/ipykernel_launcher.py:2: FutureWarning: Method .as_matrix will be removed in a future version. Use .values instead.\n",
      "  \n",
      "//anaconda3/lib/python3.7/site-packages/ipykernel_launcher.py:3: FutureWarning: Method .as_matrix will be removed in a future version. Use .values instead.\n",
      "  This is separate from the ipykernel package so we can avoid doing imports until\n",
      "//anaconda3/lib/python3.7/site-packages/ipykernel_launcher.py:4: FutureWarning: Method .as_matrix will be removed in a future version. Use .values instead.\n",
      "  after removing the cwd from sys.path.\n"
     ]
    }
   ],
   "source": [
    "_X_train_mc = X_train_mc['Norm Upsampled Readings']\n",
    "_X_val_mc = X_val_mc['Norm Upsampled Readings']\n",
    "_X_test_mc = X_test_mc['Norm Upsampled Readings']\n",
    "\n",
    "# Training/validation/testing data for CNN\n",
    "_X_train_mc = np.concatenate(_X_train_mc.as_matrix(), axis=0).reshape(60025, 2200, 1)\n",
    "_X_val_mc = np.concatenate(_X_val_mc.as_matrix(), axis=0).reshape(20009, 2200, 1)\n",
    "_X_test_mc = np.concatenate(_X_test_mc.as_matrix(), axis=0).reshape(20009, 2200, 1)\n",
    "\n",
    "# Encode class values as integers\n",
    "encoder = LabelEncoder()\n",
    "encoder.fit(y_train_mc)\n",
    "encoded_y_train_mc = encoder.transform(y_train_mc)\n",
    "encoded_y_val_mc = encoder.transform(y_val_mc)\n",
    "encoded_y_test_mc = encoder.transform(y_test_mc)\n",
    "\n",
    "_y_train_mc = np_utils.to_categorical(encoded_y_train_mc)\n",
    "_y_val_mc = np_utils.to_categorical(encoded_y_val_mc)\n",
    "_y_test_mc = np_utils.to_categorical(encoded_y_test_mc)\n",
    "\n",
    "# (Full) Training/testing data for CNN\n",
    "_X_mc = X_mc['Norm Upsampled Readings']\n",
    "_X_mc = np.concatenate(_X_mc.as_matrix(), axis=0).reshape(80034, 2200, 1)\n",
    "\n",
    "encoder_mc = LabelEncoder()\n",
    "encoder_mc.fit(y_mc)\n",
    "\n",
    "encoded_y_mc = encoder.transform(y_mc)\n",
    "encoded_y_test_mc = encoder.transform(y_test_mc)\n",
    "\n",
    "_y_mc = np_utils.to_categorical(encoded_y_mc)\n",
    "_y_test_mc = np_utils.to_categorical(encoded_y_test_mc)\n",
    "\n",
    "'''\n",
    "0: A\n",
    "1: L\n",
    "2: N\n",
    "3: R\n",
    "4: V\n",
    "'''"
   ]
  },
  {
   "cell_type": "code",
   "execution_count": 281,
   "metadata": {
    "hidden": true
   },
   "outputs": [],
   "source": [
    "class_weights_mc = class_weight.compute_class_weight('balanced',\n",
    "                                                     [0,1,2,3,4],\n",
    "                                                     encoded_y_train_mc)"
   ]
  },
  {
   "cell_type": "code",
   "execution_count": 315,
   "metadata": {
    "hidden": true
   },
   "outputs": [
    {
     "data": {
      "text/plain": [
       "array([7.88246881, 2.47372759, 0.26645803, 2.76676654, 2.82072368])"
      ]
     },
     "execution_count": 315,
     "metadata": {},
     "output_type": "execute_result"
    }
   ],
   "source": [
    "class_weights_mc"
   ]
  },
  {
   "cell_type": "markdown",
   "metadata": {
    "heading_collapsed": true,
    "hidden": true
   },
   "source": [
    "#### Model"
   ]
  },
  {
   "cell_type": "code",
   "execution_count": 326,
   "metadata": {
    "collapsed": true,
    "hidden": true
   },
   "outputs": [
    {
     "name": "stderr",
     "output_type": "stream",
     "text": [
      "//anaconda3/lib/python3.7/site-packages/ipykernel_launcher.py:23: UserWarning: Update your `Model` call to the Keras 2 API: `Model(inputs=Tensor(\"in..., outputs=Tensor(\"de...)`\n"
     ]
    },
    {
     "name": "stdout",
     "output_type": "stream",
     "text": [
      "Model: \"model_28\"\n",
      "_________________________________________________________________\n",
      "Layer (type)                 Output Shape              Param #   \n",
      "=================================================================\n",
      "input_28 (InputLayer)        (None, 2200, 1)           0         \n",
      "_________________________________________________________________\n",
      "conv1d_121 (Conv1D)          (None, 2200, 32)          288       \n",
      "_________________________________________________________________\n",
      "max_pooling1d_121 (MaxPoolin (None, 1100, 32)          0         \n",
      "_________________________________________________________________\n",
      "conv1d_122 (Conv1D)          (None, 1100, 32)          8224      \n",
      "_________________________________________________________________\n",
      "max_pooling1d_122 (MaxPoolin (None, 550, 32)           0         \n",
      "_________________________________________________________________\n",
      "conv1d_123 (Conv1D)          (None, 550, 32)           8224      \n",
      "_________________________________________________________________\n",
      "max_pooling1d_123 (MaxPoolin (None, 275, 32)           0         \n",
      "_________________________________________________________________\n",
      "conv1d_124 (Conv1D)          (None, 275, 32)           8224      \n",
      "_________________________________________________________________\n",
      "max_pooling1d_124 (MaxPoolin (None, 138, 32)           0         \n",
      "_________________________________________________________________\n",
      "conv1d_125 (Conv1D)          (None, 138, 32)           8224      \n",
      "_________________________________________________________________\n",
      "max_pooling1d_125 (MaxPoolin (None, 69, 32)            0         \n",
      "_________________________________________________________________\n",
      "flatten_28 (Flatten)         (None, 2208)              0         \n",
      "_________________________________________________________________\n",
      "dense_28 (Dense)             (None, 5)                 11045     \n",
      "=================================================================\n",
      "Total params: 44,229\n",
      "Trainable params: 44,229\n",
      "Non-trainable params: 0\n",
      "_________________________________________________________________\n",
      "Train on 80034 samples, validate on 20009 samples\n",
      "Epoch 1/25\n",
      "80034/80034 [==============================] - 367s 5ms/step - loss: 0.5639 - accuracy: 0.8388 - val_loss: 0.2247 - val_accuracy: 0.9365\n",
      "\n",
      "Epoch 00001: saving model to model-001-0.838794-0.936529.h5\n",
      "Epoch 2/25\n",
      "80034/80034 [==============================] - 391s 5ms/step - loss: 0.1723 - accuracy: 0.9529 - val_loss: 0.1553 - val_accuracy: 0.9602\n",
      "\n",
      "Epoch 00002: saving model to model-002-0.952870-0.960218.h5\n",
      "Epoch 3/25\n",
      "80034/80034 [==============================] - 393s 5ms/step - loss: 0.1317 - accuracy: 0.9647 - val_loss: 0.1237 - val_accuracy: 0.9671\n",
      "\n",
      "Epoch 00003: saving model to model-003-0.964740-0.967065.h5\n",
      "Epoch 4/25\n",
      "80034/80034 [==============================] - 431s 5ms/step - loss: 0.1135 - accuracy: 0.9697 - val_loss: 0.1115 - val_accuracy: 0.9705\n",
      "\n",
      "Epoch 00004: saving model to model-004-0.969688-0.970463.h5\n",
      "Epoch 5/25\n",
      "80034/80034 [==============================] - 427s 5ms/step - loss: 0.1045 - accuracy: 0.9715 - val_loss: 0.1087 - val_accuracy: 0.9715\n",
      "\n",
      "Epoch 00005: saving model to model-005-0.971550-0.971513.h5\n",
      "Epoch 6/25\n",
      "80034/80034 [==============================] - 429s 5ms/step - loss: 0.0950 - accuracy: 0.9739 - val_loss: 0.1020 - val_accuracy: 0.9736\n",
      "\n",
      "Epoch 00006: saving model to model-006-0.973936-0.973612.h5\n",
      "Epoch 7/25\n",
      "80034/80034 [==============================] - 419s 5ms/step - loss: 0.0889 - accuracy: 0.9755 - val_loss: 0.1007 - val_accuracy: 0.9735\n",
      "\n",
      "Epoch 00007: saving model to model-007-0.975473-0.973462.h5\n",
      "Epoch 8/25\n",
      "80034/80034 [==============================] - 447s 6ms/step - loss: 0.0838 - accuracy: 0.9764 - val_loss: 0.0987 - val_accuracy: 0.9735\n",
      "\n",
      "Epoch 00008: saving model to model-008-0.976385-0.973462.h5\n",
      "Epoch 9/25\n",
      "80034/80034 [==============================] - 399s 5ms/step - loss: 0.0811 - accuracy: 0.9774 - val_loss: 0.0989 - val_accuracy: 0.9738\n",
      "\n",
      "Epoch 00009: saving model to model-009-0.977385-0.973762.h5\n",
      "Epoch 10/25\n",
      "80034/80034 [==============================] - 420s 5ms/step - loss: 0.0770 - accuracy: 0.9779 - val_loss: 0.0931 - val_accuracy: 0.9759\n",
      "\n",
      "Epoch 00010: saving model to model-010-0.977934-0.975861.h5\n",
      "Epoch 11/25\n",
      "80034/80034 [==============================] - 381s 5ms/step - loss: 0.0731 - accuracy: 0.9794 - val_loss: 0.0890 - val_accuracy: 0.9772\n",
      "\n",
      "Epoch 00011: saving model to model-011-0.979359-0.977160.h5\n",
      "Epoch 12/25\n",
      "80034/80034 [==============================] - 396s 5ms/step - loss: 0.0711 - accuracy: 0.9796 - val_loss: 0.0929 - val_accuracy: 0.9741\n",
      "\n",
      "Epoch 00012: saving model to model-012-0.979634-0.974062.h5\n",
      "Epoch 13/25\n",
      "80034/80034 [==============================] - 383s 5ms/step - loss: 0.0684 - accuracy: 0.9803 - val_loss: 0.0862 - val_accuracy: 0.9773\n",
      "\n",
      "Epoch 00013: saving model to model-013-0.980346-0.977260.h5\n",
      "Epoch 14/25\n",
      "80034/80034 [==============================] - 391s 5ms/step - loss: 0.0636 - accuracy: 0.9818 - val_loss: 0.0925 - val_accuracy: 0.9733\n",
      "\n",
      "Epoch 00014: saving model to model-014-0.981808-0.973262.h5\n",
      "Epoch 15/25\n",
      "80034/80034 [==============================] - 407s 5ms/step - loss: 0.0628 - accuracy: 0.9819 - val_loss: 0.0915 - val_accuracy: 0.9770\n",
      "\n",
      "Epoch 00015: saving model to model-015-0.981920-0.977010.h5\n",
      "Epoch 16/25\n",
      "80034/80034 [==============================] - 418s 5ms/step - loss: 0.0614 - accuracy: 0.9820 - val_loss: 0.0902 - val_accuracy: 0.9772\n",
      "\n",
      "Epoch 00016: saving model to model-016-0.982033-0.977160.h5\n",
      "Epoch 17/25\n",
      "80034/80034 [==============================] - 395s 5ms/step - loss: 0.0581 - accuracy: 0.9829 - val_loss: 0.0849 - val_accuracy: 0.9753\n",
      "\n",
      "Epoch 00017: saving model to model-017-0.982945-0.975311.h5\n",
      "Epoch 18/25\n",
      "80034/80034 [==============================] - 400s 5ms/step - loss: 0.0552 - accuracy: 0.9837 - val_loss: 0.0890 - val_accuracy: 0.9768\n",
      "\n",
      "Epoch 00018: saving model to model-018-0.983744-0.976760.h5\n",
      "Epoch 19/25\n",
      "80034/80034 [==============================] - 408s 5ms/step - loss: 0.0552 - accuracy: 0.9834 - val_loss: 0.0937 - val_accuracy: 0.9765\n",
      "\n",
      "Epoch 00019: saving model to model-019-0.983445-0.976461.h5\n",
      "Epoch 20/25\n",
      "80034/80034 [==============================] - 433s 5ms/step - loss: 0.0537 - accuracy: 0.9836 - val_loss: 0.0890 - val_accuracy: 0.9760\n",
      "\n",
      "Epoch 00020: saving model to model-020-0.983644-0.976011.h5\n",
      "Epoch 21/25\n",
      "80034/80034 [==============================] - 410s 5ms/step - loss: 0.0518 - accuracy: 0.9844 - val_loss: 0.0899 - val_accuracy: 0.9756\n",
      "\n",
      "Epoch 00021: saving model to model-021-0.984394-0.975561.h5\n",
      "Epoch 22/25\n",
      "80034/80034 [==============================] - 439s 5ms/step - loss: 0.0503 - accuracy: 0.9849 - val_loss: 0.0876 - val_accuracy: 0.9763\n",
      "\n",
      "Epoch 00022: saving model to model-022-0.984919-0.976261.h5\n",
      "Epoch 23/25\n",
      "80034/80034 [==============================] - 429s 5ms/step - loss: 0.0481 - accuracy: 0.9849 - val_loss: 0.0890 - val_accuracy: 0.9770\n",
      "\n",
      "Epoch 00023: saving model to model-023-0.984869-0.977010.h5\n",
      "Epoch 24/25\n",
      "80034/80034 [==============================] - 372s 5ms/step - loss: 0.0470 - accuracy: 0.9855 - val_loss: 0.0833 - val_accuracy: 0.9794\n",
      "\n",
      "Epoch 00024: saving model to model-024-0.985494-0.979359.h5\n",
      "Epoch 25/25\n",
      "80034/80034 [==============================] - 381s 5ms/step - loss: 0.0469 - accuracy: 0.9853 - val_loss: 0.0899 - val_accuracy: 0.9766\n",
      "\n",
      "Epoch 00025: saving model to model-025-0.985344-0.976611.h5\n"
     ]
    }
   ],
   "source": [
    "input_shape = Input(shape=(2200, 1)) \n",
    "\n",
    "mcp_mc = ModelCheckpoint('model-{epoch:03d}-{accuracy:03f}-{val_accuracy:03f}.h5', verbose=1, monitor='val_loss', save_best_only=False)\n",
    "\n",
    "conv_e1 = Conv1D(32, 8, activation='relu', padding='same')(input_shape)\n",
    "pool_e1 = MaxPooling1D(2, padding='same')(conv_e1)\n",
    "\n",
    "conv_e2 = Conv1D(32, 8, activation='relu', padding='same')(pool_e1)\n",
    "pool_e2 = MaxPooling1D(2, padding='same')(conv_e2)\n",
    "\n",
    "conv_e3 = Conv1D(32, 8, activation='relu', padding='same')(pool_e2)\n",
    "pool_e3 = MaxPooling1D(2, padding='same')(conv_e3)\n",
    "\n",
    "conv_e4 = Conv1D(32, 8, activation='relu', padding='same')(pool_e3)\n",
    "pool_e4 = MaxPooling1D(2, padding='same')(conv_e4)\n",
    "\n",
    "conv_e5 = Conv1D(32, 8, activation='relu', padding='same')(pool_e4)\n",
    "pool_e5 = MaxPooling1D(2, padding='same')(conv_e5)\n",
    "\n",
    "flattened_layer = Flatten()(pool_e5)\n",
    "last_layer = Dense(5, activation='softmax')(flattened_layer) \n",
    "\n",
    "model_mc_final = Model(input=input_shape, output=last_layer)\n",
    "model_mc_final.compile(loss='categorical_crossentropy', optimizer='adam', metrics=['accuracy']) \n",
    "\n",
    "model_mc_final.summary()\n",
    "\n",
    "model_mc_final_history = model_mc_final.fit(_X_mc, _y_mc, validation_data=(_X_test_mc, _y_test_mc), epochs=25, batch_size=512, verbose=1, class_weight=class_weights_mc, callbacks=[mcp_mc])"
   ]
  },
  {
   "cell_type": "markdown",
   "metadata": {
    "hidden": true
   },
   "source": [
    "#### Results"
   ]
  },
  {
   "cell_type": "markdown",
   "metadata": {
    "heading_collapsed": true,
    "hidden": true
   },
   "source": [
    "##### View model history. Plot accuracy and loss."
   ]
  },
  {
   "cell_type": "code",
   "execution_count": 1,
   "metadata": {
    "collapsed": true,
    "hidden": true
   },
   "outputs": [
    {
     "ename": "NameError",
     "evalue": "name 'model_mc_final_history' is not defined",
     "output_type": "error",
     "traceback": [
      "\u001b[0;31m---------------------------------------------------------------------------\u001b[0m",
      "\u001b[0;31mNameError\u001b[0m                                 Traceback (most recent call last)",
      "\u001b[0;32m<ipython-input-1-773d1fc9f0d5>\u001b[0m in \u001b[0;36m<module>\u001b[0;34m\u001b[0m\n\u001b[0;32m----> 1\u001b[0;31m \u001b[0mmodel_mc_final_history\u001b[0m\u001b[0;34m.\u001b[0m\u001b[0mhistory\u001b[0m\u001b[0;34m\u001b[0m\u001b[0;34m\u001b[0m\u001b[0m\n\u001b[0m",
      "\u001b[0;31mNameError\u001b[0m: name 'model_mc_final_history' is not defined"
     ]
    }
   ],
   "source": [
    "model_mc_final_history.history "
   ]
  },
  {
   "cell_type": "code",
   "execution_count": 356,
   "metadata": {
    "collapsed": true,
    "hidden": true
   },
   "outputs": [
    {
     "data": {
      "image/png": "[encoded data removed]",
      "text/plain": [
       "<Figure size 432x288 with 1 Axes>"
      ]
     },
     "metadata": {
      "needs_background": "light"
     },
     "output_type": "display_data"
    }
   ],
   "source": [
    "# Plot/summarize history accuracy & loss\n",
    "plt.plot(model_mc_final_history.history['accuracy'])\n",
    "plt.plot(model_mc_final_history.history['val_accuracy'])\n",
    "plt.title('Model Accuracy')\n",
    "plt.ylabel('Accuracy')\n",
    "plt.xlabel('Epoch')\n",
    "plt.legend(['Train', 'Test'], loc='upper left');"
   ]
  },
  {
   "cell_type": "code",
   "execution_count": 358,
   "metadata": {
    "collapsed": true,
    "hidden": true
   },
   "outputs": [
    {
     "data": {
      "image/png": "[encoded data removed]",
      "text/plain": [
       "<Figure size 432x288 with 1 Axes>"
      ]
     },
     "metadata": {
      "needs_background": "light"
     },
     "output_type": "display_data"
    }
   ],
   "source": [
    "# Plot/summarize history accuracy & loss\n",
    "plt.plot(model_mc_final_history.history['loss'])\n",
    "plt.plot(model_mc_final_history.history['val_loss'])\n",
    "plt.title('Model Loss')\n",
    "plt.ylabel('Loss')\n",
    "plt.xlabel('Epoch')\n",
    "plt.legend(['Train', 'Test'], loc='upper left');"
   ]
  },
  {
   "cell_type": "markdown",
   "metadata": {
    "heading_collapsed": true,
    "hidden": true
   },
   "source": [
    "##### Plot confusion matrix. Investigate incorrect predictions."
   ]
  },
  {
   "cell_type": "code",
   "execution_count": 359,
   "metadata": {
    "hidden": true
   },
   "outputs": [],
   "source": [
    "y_preds_mc = y_preds(model_mc_final, _X_test_mc)\n",
    "y_preds_classes_mc = y_preds_classes(y_preds_mc)\n",
    "y_true_classes_mc = _y_test_mc.argmax(axis=-1)"
   ]
  },
  {
   "cell_type": "code",
   "execution_count": 661,
   "metadata": {
    "hidden": true
   },
   "outputs": [],
   "source": [
    "conf_matrix_mc = confusion_matrix(y_true_classes_mc, y_preds_classes_mc)\n",
    "conf_matrix_mc_rate = [ row/sum(row) for row in conf_matrix_mc ]"
   ]
  },
  {
   "cell_type": "code",
   "execution_count": 668,
   "metadata": {
    "hidden": true
   },
   "outputs": [],
   "source": [
    "n = conf_matrix_mc_rate[2]\n",
    "a = conf_matrix_mc_rate[0]\n",
    "l = conf_matrix_mc_rate[1]\n",
    "r = conf_matrix_mc_rate[3]\n",
    "v = conf_matrix_mc_rate[4]\n",
    "\n",
    "n = [n[2], n[1], n[0], n[3], n[4]]\n",
    "a = [a[2], a[0], a[1], a[3], a[4]]\n",
    "l = [l[2], l[0], l[1], l[3], l[4]]\n",
    "r = [r[2], r[0], r[1], r[3], r[4]]\n",
    "v = [v[2], v[0], v[1], v[3], v[4]]"
   ]
  },
  {
   "cell_type": "code",
   "execution_count": 679,
   "metadata": {
    "hidden": true
   },
   "outputs": [
    {
     "data": {
      "image/png": "[encoded data removed]",
      "text/plain": [
       "<Figure size 600x400 with 2 Axes>"
      ]
     },
     "metadata": {
      "needs_background": "light"
     },
     "output_type": "display_data"
    }
   ],
   "source": [
    "plt.figure(dpi=100)\n",
    "sns.heatmap([n, a, l, r, v], cmap=plt.cm.Blues, annot=True, square=True, fmt='.2f',\n",
    "           xticklabels=['Normal', 'APB', 'LBB', 'RBB', 'PVC'],\n",
    "           yticklabels=['Normal', 'APB', 'LBB', 'RBB', 'PVC'])\n",
    "\n",
    "plt.yticks(rotation=0)\n",
    "plt.margins(20,20)\n",
    "plt.xlabel('Predicted')\n",
    "plt.ylabel('Actual', rotation=0)\n",
    "plt.title('Model Confusion Matrix')\n",
    "plt.savefig('confusion_matrix_mc_pct.png')"
   ]
  },
  {
   "cell_type": "code",
   "execution_count": 434,
   "metadata": {
    "hidden": true
   },
   "outputs": [
    {
     "name": "stdout",
     "output_type": "stream",
     "text": [
      "A FNR – 0.27540106951871657\n",
      "L FNR – 0.017430600387346677\n",
      "R FNR – 0.043668122270742356\n",
      "V FNR – 0.07217261904761904\n"
     ]
    }
   ],
   "source": [
    "# Falsely labeled normal rate – number of abnormal beats predicted to be normal) / (total number of abnormals)\n",
    "a_fnr = 103/374\n",
    "l_fnr = 27/1549\n",
    "r_fnr = 60/1374\n",
    "v_fnr = 97/1344\n",
    "\n",
    "print(f\"A FNR – {a_fnr}\")\n",
    "print(f\"L FNR – {l_fnr}\")\n",
    "print(f\"R FNR – {r_fnr}\")\n",
    "print(f\"V FNR – {v_fnr}\")"
   ]
  },
  {
   "cell_type": "markdown",
   "metadata": {
    "heading_collapsed": true,
    "hidden": true
   },
   "source": [
    "##### View classification metrics."
   ]
  },
  {
   "cell_type": "code",
   "execution_count": 400,
   "metadata": {
    "hidden": true,
    "scrolled": true
   },
   "outputs": [
    {
     "data": {
      "text/plain": [
       "0.9766105252636313"
      ]
     },
     "execution_count": 400,
     "metadata": {},
     "output_type": "execute_result"
    }
   ],
   "source": [
    "accuracy_score(encoded_y_test_mc, y_preds_classes_mc)"
   ]
  }
 ],
 "metadata": {
  "kernelspec": {
   "display_name": "Python 3",
   "language": "python",
   "name": "python3"
  },
  "language_info": {
   "codemirror_mode": {
    "name": "ipython",
    "version": 3
   },
   "file_extension": ".py",
   "mimetype": "text/x-python",
   "name": "python",
   "nbconvert_exporter": "python",
   "pygments_lexer": "ipython3",
   "version": "3.7.3"
  },
  "toc": {
   "base_numbering": 1,
   "nav_menu": {},
   "number_sections": true,
   "sideBar": true,
   "skip_h1_title": false,
   "title_cell": "Table of Contents",
   "title_sidebar": "Contents",
   "toc_cell": false,
   "toc_position": {},
   "toc_section_display": true,
   "toc_window_display": false
  }
 },
 "nbformat": 4,
 "nbformat_minor": 2
}
